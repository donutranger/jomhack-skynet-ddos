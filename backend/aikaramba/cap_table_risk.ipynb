{
 "cells": [
  {
   "cell_type": "code",
   "execution_count": null,
   "metadata": {},
   "outputs": [],
   "source": [
    "!pip install pandas\n",
    "!pip install openai"
   ]
  },
  {
   "cell_type": "code",
   "execution_count": 11,
   "metadata": {},
   "outputs": [],
   "source": [
    "import pandas as pd\n",
    "from openai import OpenAI"
   ]
  },
  {
   "cell_type": "code",
   "execution_count": 24,
   "metadata": {},
   "outputs": [],
   "source": [
    "cap_table_data = {\n",
    "    \"Investor_Name\": [\"Founder 1\", \"Founder 2\", \"VC Firm A\", \"Angel Investor B\", \"VC Firm C\", \"Investor D\"],\n",
    "    \"Holder_Type\": [\"Founder\", \"Founder\", \"Investor\", \"Investor\", \"Investor\", \"Investor\"],\n",
    "    \"Shares_Held\": [500000, 300000, 100000, 50000, 150000, 100000],\n",
    "    \"Investment_Type\": [\"Common Stock\", \"Common Stock\", \"Preferred Stock\", \"Preferred Stock\", \"Preferred Stock\", \"Common Stock\"]\n",
    "}\n",
    "\n",
    "investor_quality_data = {\n",
    "    'Investor_Name': ['Founder 1', 'Founder 2', 'VC Firm A', 'Angel Investor B', 'VC Firm C', 'Investor D'],\n",
    "    'Reputation_Score': [8, 7, 9, 6, 8, 5],\n",
    "    'Track_Record_Score': [7, 6, 9, 7, 8, 4],\n",
    "    'Strategic_Value_Score': [8, 7, 10, 6, 9, 5]\n",
    "}\n",
    "\n",
    "cap_table = pd.DataFrame(cap_table_data)\n",
    "investor_quality = pd.DataFrame(investor_quality_data)\n",
    "\n",
    "cap_table['Ownership_Percentage'] = (cap_table['Shares_Held'] / cap_table['Shares_Held'].sum()) * 100\n",
    "ownership_summary = cap_table.groupby('Holder_Type')['Ownership_Percentage'].sum()\n",
    "investment_type_distribution = cap_table.groupby('Investment_Type')['Ownership_Percentage'].sum()\n",
    "combined_data = cap_table.merge(investor_quality, on='Investor_Name')\n",
    "combined_data['Weighted_Score'] = (combined_data['Reputation_Score'] * 0.4 +\n",
    "                                   combined_data['Track_Record_Score'] * 0.3 +\n",
    "                                   combined_data['Strategic_Value_Score'] * 0.3)\n",
    "\n",
    "founder_ownership = ownership_summary['Founder']\n",
    "investor_ownership = ownership_summary['Investor']\n",
    "avg_reputation = combined_data['Reputation_Score'].mean()\n",
    "avg_track_record = combined_data['Track_Record_Score'].mean()\n",
    "avg_strategic_value = combined_data['Strategic_Value_Score'].mean()\n",
    "\n",
    "# Display weights\n",
    "(founder_ownership, investor_ownership, avg_reputation, avg_track_record, avg_strategic_value)\n",
    "\n",
    "prompt_gippity = f\"\"\"\n",
    "                Introduction: I'm analyzing a company's cap table for venture debt risk assessment.\n",
    "                \"\"\"\n",
    "                \n",
    "prompt_user = f\"\"\"\n",
    "                Quantitative Summary: Founders hold {founder_ownership}% of the company, indicating strong control. Investors, including VC firms and an angel investor, hold {investor_ownership}%, with a significant portion in preferred stock. The majority of the ownership is in common stock.\n",
    "                \n",
    "                Qualitative Summary: The company's founders and key investors have been rated on reputation, track record, and strategic value. The average reputation score is {avg_reputation}/10, the average track record score is {avg_track_record}/10, and the average strategic value score is {avg_strategic_value}/10.\n",
    "                \n",
    "                Task: Between a score of 0% to 100%, estimate the risk percentage number before giving venture debt. Proceed with reasonings after.\n",
    "                \"\"\"\n",
    "                "
   ]
  },
  {
   "cell_type": "code",
   "execution_count": 25,
   "metadata": {},
   "outputs": [
    {
     "name": "stdout",
     "output_type": "stream",
     "text": [
      "ChatCompletionMessage(content=\"To evaluate the risk associated with extending venture debt to this company, several factors need to be considered, both quantitative and qualitative. \\n\\nQuantitative factors include:\\n\\n1. **Ownership and Control**: The founders have a strong holding of 66.67%. This high percentage of founder ownership can be positive as it indicates that the founders are highly incentivized to ensure the success of the company. However, it also suggests that there might be less room for dilution to raise additional equity if needed. The 33.33% held by investors gives a reasonable balance of external oversight and influence.\\n\\n2. **Type of Securities Held**: The breakdown between common and preferred stock is crucial. Preferred stock typically has rights that are senior to common stock, and venture debt would be subordinated to preferred equity in the event of a liquidation. Therefore, knowing the terms of the preferred stock is important in assessing risks.\\n\\nQualitative factors include:\\n\\n1. **Reputation**: An average reputation score of 7.17 is reasonably high, suggesting that the founders and key investors have good standing in the business community, potentially providing confidence in their capability to navigate the company through tough times.\\n\\n2. **Track Record**: An average track record score of 6.83 indicates that there's a history of moderate success among the company's leadership, which can be positive for the likelihood of repaying venture debt.\\n\\n3. **Strategic Value**: An average strategic value score of 7.5 suggests that the company and its investors add above-average value to their respective markets and networks, indicating promising potential for growth and leveraging strategic partnerships.\\n\\nBased on the information provided:\\n\\n- The strong founder control indicates a committed leadership but with potential risks in resistance to further dilution.\\n- The allocation to preferred stock may indicate a higher tier of liquidation preference but without specifics on liquidation preferences or participation rights, it's hard to fully assess risk.\\n- The qualitative scores suggest a competent and reputable team with strategic connections, lowering the perceived risk.\\n\\nHowever, other crucial factors are not present in the summary, including:\\n\\n- The company's financial health (revenue, profitability, cash burn rate).\\n- The size and terms of the proposed venture debt (interest rate, maturity, covenants).\\n- The market conditions and industry of the company.\\n- The company's product stage (idea, development, mature).\\n- The existing debt structure of the company.\\n\\nWithout this additional information, providing an exact risk percentage is speculative. However, based on the information provided and assuming industry-standard terms for preferred stock and venture debt:\\n\\n**Preliminary Risk Assessment**: 20% - 35%. \\n\\nThis signifies that there is a moderate level of risk based on the leadership's good reputation and strategic capabilities, offset by the need for further details on financial stability and market conditions. A lower score within this range would suggest that the company is in a strong strategic position with a more favorable financial situation, whereas a higher score would be reflective of a company in a less stable market or weaker financial condition.\\n\\nTo proceed with a formal assessment:\\n- Gather comprehensive financial details of the company.\\n- Review the terms and rights attached to the preferred stock.\\n- Analyze the market and competitive landscape.\\n- Consider the proposed terms of the venture debt and perform stress tests on the company's financial model to gauge resilience to debt service obligations.\\n- Conduct qualitative interviews with management, key stakeholders, and possibly customers.\", role='assistant', function_call=None, tool_calls=None)\n"
     ]
    }
   ],
   "source": [
    "client = OpenAI()\n",
    "completion = client.chat.completions.create(\n",
    "  model=\"gpt-4-1106-preview\",\n",
    "  messages=[\n",
    "    {\n",
    "        \"role\": \"system\", \n",
    "        \"content\": f\"\"\"{prompt_gippity}\"\"\"\n",
    "    },\n",
    "    {   \"role\": \"user\", \n",
    "        \"content\": f\"\"\"{prompt_user}\"\"\"\n",
    "    }\n",
    "  ]\n",
    ")\n"
   ]
  },
  {
   "cell_type": "code",
   "execution_count": 26,
   "metadata": {},
   "outputs": [
    {
     "name": "stdout",
     "output_type": "stream",
     "text": [
      "To evaluate the risk associated with extending venture debt to this company, several factors need to be considered, both quantitative and qualitative. \n",
      "\n",
      "Quantitative factors include:\n",
      "\n",
      "1. **Ownership and Control**: The founders have a strong holding of 66.67%. This high percentage of founder ownership can be positive as it indicates that the founders are highly incentivized to ensure the success of the company. However, it also suggests that there might be less room for dilution to raise additional equity if needed. The 33.33% held by investors gives a reasonable balance of external oversight and influence.\n",
      "\n",
      "2. **Type of Securities Held**: The breakdown between common and preferred stock is crucial. Preferred stock typically has rights that are senior to common stock, and venture debt would be subordinated to preferred equity in the event of a liquidation. Therefore, knowing the terms of the preferred stock is important in assessing risks.\n",
      "\n",
      "Qualitative factors include:\n",
      "\n",
      "1. **Reputation**: An average reputation score of 7.17 is reasonably high, suggesting that the founders and key investors have good standing in the business community, potentially providing confidence in their capability to navigate the company through tough times.\n",
      "\n",
      "2. **Track Record**: An average track record score of 6.83 indicates that there's a history of moderate success among the company's leadership, which can be positive for the likelihood of repaying venture debt.\n",
      "\n",
      "3. **Strategic Value**: An average strategic value score of 7.5 suggests that the company and its investors add above-average value to their respective markets and networks, indicating promising potential for growth and leveraging strategic partnerships.\n",
      "\n",
      "Based on the information provided:\n",
      "\n",
      "- The strong founder control indicates a committed leadership but with potential risks in resistance to further dilution.\n",
      "- The allocation to preferred stock may indicate a higher tier of liquidation preference but without specifics on liquidation preferences or participation rights, it's hard to fully assess risk.\n",
      "- The qualitative scores suggest a competent and reputable team with strategic connections, lowering the perceived risk.\n",
      "\n",
      "However, other crucial factors are not present in the summary, including:\n",
      "\n",
      "- The company's financial health (revenue, profitability, cash burn rate).\n",
      "- The size and terms of the proposed venture debt (interest rate, maturity, covenants).\n",
      "- The market conditions and industry of the company.\n",
      "- The company's product stage (idea, development, mature).\n",
      "- The existing debt structure of the company.\n",
      "\n",
      "Without this additional information, providing an exact risk percentage is speculative. However, based on the information provided and assuming industry-standard terms for preferred stock and venture debt:\n",
      "\n",
      "**Preliminary Risk Assessment**: 20% - 35%. \n",
      "\n",
      "This signifies that there is a moderate level of risk based on the leadership's good reputation and strategic capabilities, offset by the need for further details on financial stability and market conditions. A lower score within this range would suggest that the company is in a strong strategic position with a more favorable financial situation, whereas a higher score would be reflective of a company in a less stable market or weaker financial condition.\n",
      "\n",
      "To proceed with a formal assessment:\n",
      "- Gather comprehensive financial details of the company.\n",
      "- Review the terms and rights attached to the preferred stock.\n",
      "- Analyze the market and competitive landscape.\n",
      "- Consider the proposed terms of the venture debt and perform stress tests on the company's financial model to gauge resilience to debt service obligations.\n",
      "- Conduct qualitative interviews with management, key stakeholders, and possibly customers.\n"
     ]
    }
   ],
   "source": [
    "# print(completion.choices[0].message)\n",
    "print(completion.choices[0].message.content)"
   ]
  }
 ],
 "metadata": {
  "kernelspec": {
   "display_name": "Python 3",
   "language": "python",
   "name": "python3"
  },
  "language_info": {
   "codemirror_mode": {
    "name": "ipython",
    "version": 3
   },
   "file_extension": ".py",
   "mimetype": "text/x-python",
   "name": "python",
   "nbconvert_exporter": "python",
   "pygments_lexer": "ipython3",
   "version": "3.9.13"
  }
 },
 "nbformat": 4,
 "nbformat_minor": 2
}
