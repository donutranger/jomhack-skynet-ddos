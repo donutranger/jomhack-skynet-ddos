{
 "cells": [
  {
   "cell_type": "code",
   "execution_count": null,
   "metadata": {},
   "outputs": [
    {
     "ename": "",
     "evalue": "",
     "output_type": "error",
     "traceback": [
      "\u001b[1;31mRunning cells with 'c:\\Users\\haris\\.pyenv\\pyenv-win\\versions\\3.9.13\\python.exe' requires the ipykernel package.\n",
      "\u001b[1;31mRun the following command to install 'ipykernel' into the Python environment. \n",
      "\u001b[1;31mCommand: 'c:/Users/haris/.pyenv/pyenv-win/versions/3.9.13/python.exe -m pip install ipykernel -U --force-reinstall'"
     ]
    }
   ],
   "source": [
    "import pandas as pd"
   ]
  },
  {
   "cell_type": "code",
   "execution_count": null,
   "metadata": {},
   "outputs": [],
   "source": [
    "\n",
    "#mock cap table\n",
    "data = {\n",
    "    \"Investor_Name\": [\"Founder 1\", \"Founder 2\", \"VC Firm A\", \"Angel Investor B\", \"VC Firm C\", \"Investor D\"],\n",
    "    \"Holder_Type\": [\"Founder\", \"Founder\", \"Investor\", \"Investor\", \"Investor\", \"Investor\"],\n",
    "    \"Shares_Held\": [500000, 300000, 100000, 50000, 150000, 100000],\n",
    "    \"Investment_Type\": [\"Common Stock\", \"Common Stock\", \"Preferred Stock\", \"Preferred Stock\", \"Preferred Stock\", \"Common Stock\"]\n",
    "}\n",
    "\n",
    "cap_table = pd.DataFrame(data)\n",
    "\n",
    "# Calculate ownership percentages\n",
    "total_shares = cap_table['Shares_Held'].sum()\n",
    "cap_table['Ownership_Percentage'] = (cap_table['Shares_Held'] / total_shares) * 100\n",
    "\n",
    "# Aggregate ownership by holder type\n",
    "ownership_summary = cap_table.groupby('Holder_Type')['Ownership_Percentage'].sum()\n",
    "\n",
    "# Analyze investment types\n",
    "investment_type_distribution = cap_table.groupby('Investment_Type')['Ownership_Percentage'].sum()\n",
    "\n",
    "cap_table, ownership_summary, investment_type_distribution\n",
    "\n"
   ]
  },
  {
   "cell_type": "code",
   "execution_count": null,
   "metadata": {},
   "outputs": [],
   "source": []
  }
 ],
 "metadata": {
  "kernelspec": {
   "display_name": "Python 3",
   "language": "python",
   "name": "python3"
  },
  "language_info": {
   "name": "python",
   "version": "3.9.13"
  }
 },
 "nbformat": 4,
 "nbformat_minor": 2
}
